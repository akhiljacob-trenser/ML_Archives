{
 "cells": [
  {
   "cell_type": "code",
   "execution_count": 16,
   "metadata": {},
   "outputs": [
    {
     "name": "stdout",
     "output_type": "stream",
     "text": [
      "tensor(100)\n",
      "tensor([ 12.,  10.,  12., 168.,   9.,   3.,  45.,  16.,  20.,  25.])\n",
      "tensor([[ 1,  2],\n",
      "        [ 3,  4],\n",
      "        [10, 11]])\n"
     ]
    }
   ],
   "source": [
    "import torch\n",
    "#CUDA-Compute Unifide Device Architecture\n",
    "zero=torch.tensor(100)\n",
    "OneD=torch.tensor([12,10,12,168,9,3,45,16,20,25],dtype=torch.float32)\n",
    "TwoD=torch.tensor([[1,2],[3,4],[10,11]])\n",
    "\n",
    "print(zero)\n",
    "print(OneD)\n",
    "print(TwoD)"
   ]
  },
  {
   "cell_type": "code",
   "execution_count": 2,
   "metadata": {},
   "outputs": [
    {
     "name": "stdout",
     "output_type": "stream",
     "text": [
      "Size--> torch.Size([3, 2])\n",
      "Shape--> torch.Size([3, 2])\n",
      "2\n"
     ]
    }
   ],
   "source": [
    "#Tensor Size\n",
    "print(\"Size-->\",TwoD.size())\n",
    "print(\"Shape-->\",TwoD.shape)\n",
    "\n",
    "#Tensor Dimension\n",
    "print(TwoD.ndimension())"
   ]
  },
  {
   "cell_type": "code",
   "execution_count": 9,
   "metadata": {},
   "outputs": [
    {
     "name": "stdout",
     "output_type": "stream",
     "text": [
      "tensor([10.3000,  5.4324]) tensor([21.5000, 33.5000])\n"
     ]
    }
   ],
   "source": [
    "#Pytorch basic math operations\n",
    "\n",
    "u=torch.tensor([10.3,5.4324])\n",
    "v=torch.tensor([21.5,33.5])\n",
    "print(u,v)\n",
    "added_tensor=u+v"
   ]
  },
  {
   "cell_type": "code",
   "execution_count": 10,
   "metadata": {},
   "outputs": [
    {
     "name": "stdout",
     "output_type": "stream",
     "text": [
      "tensor([31.8000, 38.9324])\n",
      "tensor([31.8000, 38.9324])\n",
      "tensor([32., 39.])\n",
      "tensor([31., 38.])\n",
      "tensor([0.5000, 0.5000])\n"
     ]
    }
   ],
   "source": [
    "#Common tensor functions\n",
    "print(added_tensor)\n",
    "print(torch.abs(added_tensor))\n",
    "print(torch.ceil(added_tensor))\n",
    "print(torch.floor(added_tensor))\n",
    "print(torch.clamp(added_tensor,-0.5,0.5))"
   ]
  },
  {
   "cell_type": "code",
   "execution_count": 19,
   "metadata": {},
   "outputs": [
    {
     "name": "stdout",
     "output_type": "stream",
     "text": [
      "tensor(32.)\n",
      "tensor(168.)\n",
      "tensor(3.)\n"
     ]
    }
   ],
   "source": [
    "#reduction function mean\n",
    "print(OneD.mean())\n",
    "#max min\n",
    "print(OneD.max())\n",
    "print(OneD.min())\n"
   ]
  },
  {
   "cell_type": "code",
   "execution_count": 21,
   "metadata": {},
   "outputs": [
    {
     "name": "stdout",
     "output_type": "stream",
     "text": [
      "tensor([-3.1416, -1.5708,  0.0000,  1.5708,  3.1416])\n",
      "tensor([ 8.7423e-08, -1.0000e+00,  0.0000e+00,  1.0000e+00, -8.7423e-08])\n",
      "tensor([-1.0000e+00, -4.3711e-08,  1.0000e+00, -4.3711e-08, -1.0000e+00])\n"
     ]
    }
   ],
   "source": [
    "#trignometric functions\n",
    "import numpy as np\n",
    "x=torch.tensor([-np.pi,-np.pi/2,0,np.pi/2,np.pi])\n",
    "print(x)\n",
    "print(torch.sin(x))\n",
    "print(torch.cos(x))"
   ]
  },
  {
   "cell_type": "code",
   "execution_count": 24,
   "metadata": {},
   "outputs": [
    {
     "name": "stdout",
     "output_type": "stream",
     "text": [
      "tensor([-1.0000, -1.0000, -1.0000, -1.0000, -0.9999, -0.9999, -0.9998, -0.9998,\n",
      "        -0.9997, -0.9996, -0.9995, -0.9994, -0.9993, -0.9992, -0.9990, -0.9989,\n",
      "        -0.9987, -0.9986, -0.9984, -0.9982, -0.9980, -0.9978, -0.9976, -0.9974,\n",
      "        -0.9972, -0.9969, -0.9967, -0.9964, -0.9961, -0.9958, -0.9956, -0.9953,\n",
      "        -0.9949, -0.9946, -0.9943, -0.9939, -0.9936, -0.9932, -0.9929, -0.9925,\n",
      "        -0.9921, -0.9917, -0.9913, -0.9909, -0.9904, -0.9900, -0.9896, -0.9891,\n",
      "        -0.9886, -0.9882, -0.9877, -0.9872, -0.9867, -0.9861, -0.9856, -0.9851,\n",
      "        -0.9845, -0.9840, -0.9834, -0.9828, -0.9823, -0.9817, -0.9811, -0.9804,\n",
      "        -0.9798, -0.9792, -0.9785, -0.9779, -0.9772, -0.9766, -0.9759, -0.9752,\n",
      "        -0.9745, -0.9738, -0.9730, -0.9723, -0.9716, -0.9708, -0.9701, -0.9693,\n",
      "        -0.9685, -0.9677, -0.9669, -0.9661, -0.9653, -0.9645, -0.9637, -0.9628,\n",
      "        -0.9620, -0.9611, -0.9602, -0.9593, -0.9584, -0.9575, -0.9566, -0.9557,\n",
      "        -0.9548, -0.9538, -0.9529, -0.9519, -0.9510, -0.9500, -0.9490, -0.9480,\n",
      "        -0.9470, -0.9460, -0.9450, -0.9439, -0.9429, -0.9418, -0.9408, -0.9397,\n",
      "        -0.9386, -0.9375, -0.9364, -0.9353, -0.9342, -0.9331, -0.9319, -0.9308,\n",
      "        -0.9296, -0.9285, -0.9273, -0.9261, -0.9249, -0.9237, -0.9225, -0.9213,\n",
      "        -0.9201, -0.9188, -0.9176, -0.9163, -0.9151, -0.9138, -0.9125, -0.9112,\n",
      "        -0.9099, -0.9086, -0.9073, -0.9060, -0.9046, -0.9033, -0.9019, -0.9006,\n",
      "        -0.8992, -0.8978, -0.8964, -0.8950, -0.8936, -0.8922, -0.8908, -0.8894,\n",
      "        -0.8879, -0.8865, -0.8850, -0.8835, -0.8821, -0.8806, -0.8791, -0.8776,\n",
      "        -0.8761, -0.8745, -0.8730, -0.8715, -0.8699, -0.8684, -0.8668, -0.8652,\n",
      "        -0.8637, -0.8621, -0.8605, -0.8589, -0.8572, -0.8556, -0.8540, -0.8524,\n",
      "        -0.8507, -0.8490, -0.8474, -0.8457, -0.8440, -0.8423, -0.8406, -0.8389,\n",
      "        -0.8372, -0.8355, -0.8338, -0.8320, -0.8303, -0.8285, -0.8267, -0.8250,\n",
      "        -0.8232, -0.8214, -0.8196, -0.8178, -0.8160, -0.8142, -0.8123, -0.8105,\n",
      "        -0.8086, -0.8068, -0.8049, -0.8031, -0.8012, -0.7993, -0.7974, -0.7955,\n",
      "        -0.7936, -0.7917, -0.7898, -0.7878, -0.7859, -0.7839, -0.7820, -0.7800,\n",
      "        -0.7780, -0.7761, -0.7741, -0.7721, -0.7701, -0.7681, -0.7660, -0.7640,\n",
      "        -0.7620, -0.7599, -0.7579, -0.7558, -0.7538, -0.7517, -0.7496, -0.7475,\n",
      "        -0.7455, -0.7434, -0.7412, -0.7391, -0.7370, -0.7349, -0.7327, -0.7306,\n",
      "        -0.7285, -0.7263, -0.7241, -0.7220, -0.7198, -0.7176, -0.7154, -0.7132,\n",
      "        -0.7110, -0.7088, -0.7066, -0.7043, -0.7021, -0.6998, -0.6976, -0.6953,\n",
      "        -0.6931, -0.6908, -0.6885, -0.6862, -0.6840, -0.6817, -0.6793, -0.6770,\n",
      "        -0.6747, -0.6724, -0.6701, -0.6677, -0.6654, -0.6630, -0.6607, -0.6583,\n",
      "        -0.6559, -0.6536, -0.6512, -0.6488, -0.6464, -0.6440, -0.6416, -0.6392,\n",
      "        -0.6367, -0.6343, -0.6319, -0.6294, -0.6270, -0.6245, -0.6221, -0.6196,\n",
      "        -0.6171, -0.6147, -0.6122, -0.6097, -0.6072, -0.6047, -0.6022, -0.5997,\n",
      "        -0.5972, -0.5946, -0.5921, -0.5896, -0.5870, -0.5845, -0.5819, -0.5794,\n",
      "        -0.5768, -0.5742, -0.5716, -0.5691, -0.5665, -0.5639, -0.5613, -0.5587,\n",
      "        -0.5561, -0.5534, -0.5508, -0.5482, -0.5456, -0.5429, -0.5403, -0.5376,\n",
      "        -0.5350, -0.5323, -0.5297, -0.5270, -0.5243, -0.5216, -0.5189, -0.5163,\n",
      "        -0.5136, -0.5109, -0.5081, -0.5054, -0.5027, -0.5000, -0.4973, -0.4945,\n",
      "        -0.4918, -0.4891, -0.4863, -0.4836, -0.4808, -0.4781, -0.4753, -0.4725,\n",
      "        -0.4697, -0.4670, -0.4642, -0.4614, -0.4586, -0.4558, -0.4530, -0.4502,\n",
      "        -0.4474, -0.4446, -0.4418, -0.4389, -0.4361, -0.4333, -0.4304, -0.4276,\n",
      "        -0.4248, -0.4219, -0.4191, -0.4162, -0.4133, -0.4105, -0.4076, -0.4047,\n",
      "        -0.4018, -0.3990, -0.3961, -0.3932, -0.3903, -0.3874, -0.3845, -0.3816,\n",
      "        -0.3787, -0.3758, -0.3729, -0.3699, -0.3670, -0.3641, -0.3612, -0.3582,\n",
      "        -0.3553, -0.3523, -0.3494, -0.3464, -0.3435, -0.3405, -0.3376, -0.3346,\n",
      "        -0.3317, -0.3287, -0.3257, -0.3227, -0.3198, -0.3168, -0.3138, -0.3108,\n",
      "        -0.3078, -0.3048, -0.3018, -0.2988, -0.2958, -0.2928, -0.2898, -0.2868,\n",
      "        -0.2838, -0.2808, -0.2778, -0.2747, -0.2717, -0.2687, -0.2656, -0.2626,\n",
      "        -0.2596, -0.2565, -0.2535, -0.2505, -0.2474, -0.2444, -0.2413, -0.2383,\n",
      "        -0.2352, -0.2321, -0.2291, -0.2260, -0.2230, -0.2199, -0.2168, -0.2138,\n",
      "        -0.2107, -0.2076, -0.2045, -0.2014, -0.1984, -0.1953, -0.1922, -0.1891,\n",
      "        -0.1860, -0.1829, -0.1798, -0.1767, -0.1736, -0.1706, -0.1675, -0.1643,\n",
      "        -0.1612, -0.1581, -0.1550, -0.1519, -0.1488, -0.1457, -0.1426, -0.1395,\n",
      "        -0.1364, -0.1333, -0.1301, -0.1270, -0.1239, -0.1208, -0.1177, -0.1145,\n",
      "        -0.1114, -0.1083, -0.1052, -0.1020, -0.0989, -0.0958, -0.0926, -0.0895,\n",
      "        -0.0864, -0.0832, -0.0801, -0.0770, -0.0738, -0.0707, -0.0676, -0.0644,\n",
      "        -0.0613, -0.0581, -0.0550, -0.0519, -0.0487, -0.0456, -0.0424, -0.0393,\n",
      "        -0.0362, -0.0330, -0.0299, -0.0267, -0.0236, -0.0204, -0.0173, -0.0142,\n",
      "        -0.0110, -0.0079, -0.0047, -0.0016,  0.0016,  0.0047,  0.0079,  0.0110,\n",
      "         0.0142,  0.0173,  0.0204,  0.0236,  0.0267,  0.0299,  0.0330,  0.0362,\n",
      "         0.0393,  0.0424,  0.0456,  0.0487,  0.0519,  0.0550,  0.0581,  0.0613,\n",
      "         0.0644,  0.0676,  0.0707,  0.0738,  0.0770,  0.0801,  0.0832,  0.0864,\n",
      "         0.0895,  0.0926,  0.0958,  0.0989,  0.1020,  0.1052,  0.1083,  0.1114,\n",
      "         0.1145,  0.1177,  0.1208,  0.1239,  0.1270,  0.1301,  0.1333,  0.1364,\n",
      "         0.1395,  0.1426,  0.1457,  0.1488,  0.1519,  0.1550,  0.1581,  0.1612,\n",
      "         0.1643,  0.1675,  0.1706,  0.1736,  0.1767,  0.1798,  0.1829,  0.1860,\n",
      "         0.1891,  0.1922,  0.1953,  0.1984,  0.2014,  0.2045,  0.2076,  0.2107,\n",
      "         0.2138,  0.2168,  0.2199,  0.2230,  0.2260,  0.2291,  0.2321,  0.2352,\n",
      "         0.2383,  0.2413,  0.2444,  0.2474,  0.2505,  0.2535,  0.2565,  0.2596,\n",
      "         0.2626,  0.2656,  0.2687,  0.2717,  0.2747,  0.2778,  0.2808,  0.2838,\n",
      "         0.2868,  0.2898,  0.2928,  0.2958,  0.2988,  0.3018,  0.3048,  0.3078,\n",
      "         0.3108,  0.3138,  0.3168,  0.3198,  0.3227,  0.3257,  0.3287,  0.3317,\n",
      "         0.3346,  0.3376,  0.3405,  0.3435,  0.3464,  0.3494,  0.3523,  0.3553,\n",
      "         0.3582,  0.3612,  0.3641,  0.3670,  0.3699,  0.3729,  0.3758,  0.3787,\n",
      "         0.3816,  0.3845,  0.3874,  0.3903,  0.3932,  0.3961,  0.3990,  0.4018,\n",
      "         0.4047,  0.4076,  0.4105,  0.4133,  0.4162,  0.4191,  0.4219,  0.4248,\n",
      "         0.4276,  0.4304,  0.4333,  0.4361,  0.4389,  0.4418,  0.4446,  0.4474,\n",
      "         0.4502,  0.4530,  0.4558,  0.4586,  0.4614,  0.4642,  0.4670,  0.4697,\n",
      "         0.4725,  0.4753,  0.4781,  0.4808,  0.4836,  0.4863,  0.4891,  0.4918,\n",
      "         0.4945,  0.4973,  0.5000,  0.5027,  0.5054,  0.5081,  0.5109,  0.5136,\n",
      "         0.5163,  0.5189,  0.5216,  0.5243,  0.5270,  0.5297,  0.5323,  0.5350,\n",
      "         0.5376,  0.5403,  0.5429,  0.5456,  0.5482,  0.5508,  0.5534,  0.5561,\n",
      "         0.5587,  0.5613,  0.5639,  0.5665,  0.5691,  0.5716,  0.5742,  0.5768,\n",
      "         0.5794,  0.5819,  0.5845,  0.5870,  0.5896,  0.5921,  0.5946,  0.5972,\n",
      "         0.5997,  0.6022,  0.6047,  0.6072,  0.6097,  0.6122,  0.6147,  0.6171,\n",
      "         0.6196,  0.6221,  0.6245,  0.6270,  0.6294,  0.6319,  0.6343,  0.6367,\n",
      "         0.6392,  0.6416,  0.6440,  0.6464,  0.6488,  0.6512,  0.6536,  0.6559,\n",
      "         0.6583,  0.6607,  0.6630,  0.6654,  0.6677,  0.6701,  0.6724,  0.6747,\n",
      "         0.6770,  0.6793,  0.6817,  0.6840,  0.6862,  0.6885,  0.6908,  0.6931,\n",
      "         0.6953,  0.6976,  0.6998,  0.7021,  0.7043,  0.7066,  0.7088,  0.7110,\n",
      "         0.7132,  0.7154,  0.7176,  0.7198,  0.7220,  0.7241,  0.7263,  0.7285,\n",
      "         0.7306,  0.7327,  0.7349,  0.7370,  0.7391,  0.7412,  0.7434,  0.7455,\n",
      "         0.7475,  0.7496,  0.7517,  0.7538,  0.7558,  0.7579,  0.7599,  0.7620,\n",
      "         0.7640,  0.7660,  0.7681,  0.7701,  0.7721,  0.7741,  0.7761,  0.7780,\n",
      "         0.7800,  0.7820,  0.7839,  0.7859,  0.7878,  0.7898,  0.7917,  0.7936,\n",
      "         0.7955,  0.7974,  0.7993,  0.8012,  0.8031,  0.8049,  0.8068,  0.8086,\n",
      "         0.8105,  0.8123,  0.8142,  0.8160,  0.8178,  0.8196,  0.8214,  0.8232,\n",
      "         0.8250,  0.8267,  0.8285,  0.8303,  0.8320,  0.8338,  0.8355,  0.8372,\n",
      "         0.8389,  0.8406,  0.8423,  0.8440,  0.8457,  0.8474,  0.8490,  0.8507,\n",
      "         0.8524,  0.8540,  0.8556,  0.8572,  0.8589,  0.8605,  0.8621,  0.8637,\n",
      "         0.8652,  0.8668,  0.8684,  0.8699,  0.8715,  0.8730,  0.8745,  0.8761,\n",
      "         0.8776,  0.8791,  0.8806,  0.8821,  0.8835,  0.8850,  0.8865,  0.8879,\n",
      "         0.8894,  0.8908,  0.8922,  0.8936,  0.8950,  0.8964,  0.8978,  0.8992,\n",
      "         0.9006,  0.9019,  0.9033,  0.9046,  0.9060,  0.9073,  0.9086,  0.9099,\n",
      "         0.9112,  0.9125,  0.9138,  0.9151,  0.9163,  0.9176,  0.9188,  0.9201,\n",
      "         0.9213,  0.9225,  0.9237,  0.9249,  0.9261,  0.9273,  0.9285,  0.9296,\n",
      "         0.9308,  0.9319,  0.9331,  0.9342,  0.9353,  0.9364,  0.9375,  0.9386,\n",
      "         0.9397,  0.9408,  0.9418,  0.9429,  0.9439,  0.9450,  0.9460,  0.9470,\n",
      "         0.9480,  0.9490,  0.9500,  0.9510,  0.9519,  0.9529,  0.9538,  0.9548,\n",
      "         0.9557,  0.9566,  0.9575,  0.9584,  0.9593,  0.9602,  0.9611,  0.9620,\n",
      "         0.9628,  0.9637,  0.9645,  0.9653,  0.9661,  0.9669,  0.9677,  0.9685,\n",
      "         0.9693,  0.9701,  0.9708,  0.9716,  0.9723,  0.9730,  0.9738,  0.9745,\n",
      "         0.9752,  0.9759,  0.9766,  0.9772,  0.9779,  0.9785,  0.9792,  0.9798,\n",
      "         0.9804,  0.9811,  0.9817,  0.9823,  0.9828,  0.9834,  0.9840,  0.9845,\n",
      "         0.9851,  0.9856,  0.9861,  0.9867,  0.9872,  0.9877,  0.9882,  0.9886,\n",
      "         0.9891,  0.9896,  0.9900,  0.9904,  0.9909,  0.9913,  0.9917,  0.9921,\n",
      "         0.9925,  0.9929,  0.9932,  0.9936,  0.9939,  0.9943,  0.9946,  0.9949,\n",
      "         0.9953,  0.9956,  0.9958,  0.9961,  0.9964,  0.9967,  0.9969,  0.9972,\n",
      "         0.9974,  0.9976,  0.9978,  0.9980,  0.9982,  0.9984,  0.9986,  0.9987,\n",
      "         0.9989,  0.9990,  0.9992,  0.9993,  0.9994,  0.9995,  0.9996,  0.9997,\n",
      "         0.9998,  0.9998,  0.9999,  0.9999,  1.0000,  1.0000,  1.0000,  1.0000])\n"
     ]
    }
   ],
   "source": [
    "#getting eventually spacing between pi limits\n",
    "y=torch.linspace(-np.pi/2,np.pi/2,steps=1000)\n",
    "sined=torch.sin(y)\n",
    "cose=torch.cos(y)\n",
    "print(torch.sin(y))"
   ]
  },
  {
   "cell_type": "code",
   "execution_count": 28,
   "metadata": {},
   "outputs": [
    {
     "data": {
      "image/png": "[encoded data removed]",
      "text/plain": [
       "<Figure size 640x480 with 1 Axes>"
      ]
     },
     "metadata": {},
     "output_type": "display_data"
    }
   ],
   "source": [
    "#plotting\n",
    "import matplotlib.pyplot as plt\n",
    "plt.plot(sined,label=\"sined\")\n",
    "plt.plot(cose,label=\"cosed\")\n",
    "plt.plot(y,label=\"Fn\")\n",
    "plt.legend()\n",
    "plt.show()"
   ]
  }
 ],
 "metadata": {
  "kernelspec": {
   "display_name": "Python 3",
   "language": "python",
   "name": "python3"
  },
  "language_info": {
   "codemirror_mode": {
    "name": "ipython",
    "version": 3
   },
   "file_extension": ".py",
   "mimetype": "text/x-python",
   "name": "python",
   "nbconvert_exporter": "python",
   "pygments_lexer": "ipython3",
   "version": "3.11.4"
  },
  "orig_nbformat": 4
 },
 "nbformat": 4,
 "nbformat_minor": 2
}
